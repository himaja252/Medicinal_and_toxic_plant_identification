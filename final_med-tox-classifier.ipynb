{
 "cells": [
  {
   "cell_type": "code",
   "execution_count": null,
   "id": "0ea5d778-b71d-4bca-a2c1-ea30853fbd02",
   "metadata": {},
   "outputs": [],
   "source": [
    "pip install tensorflow"
   ]
  },
  {
   "cell_type": "code",
   "execution_count": 1,
   "id": "e288a58e-e30b-4605-8551-9efc8ed96ad1",
   "metadata": {},
   "outputs": [],
   "source": [
    "from tensorflow.keras.preprocessing.image import ImageDataGenerator\n",
    "\n",
    "# Define directories and parameters\n",
    "dataset_combined_dir = 'plant dataset'\n",
    "target_size = (224, 224)  # Target image size for MobileNetV2\n",
    "batch_size = 32\n",
    "epochs = 10"
   ]
  },
  {
   "cell_type": "code",
   "execution_count": 2,
   "id": "8cafdf53-6336-4280-ab08-cc813d8ab218",
   "metadata": {},
   "outputs": [],
   "source": [
    "# Use ImageDataGenerator for data augmentation and preprocessing\n",
    "datagen = ImageDataGenerator(\n",
    "    rescale=1./255,\n",
    "    shear_range=0.2,\n",
    "    zoom_range=0.2,\n",
    "    horizontal_flip=True\n",
    ")"
   ]
  },
  {
   "cell_type": "code",
   "execution_count": 3,
   "id": "3686d9aa-ff77-4251-a8ae-ab03883882a9",
   "metadata": {},
   "outputs": [
    {
     "name": "stdout",
     "output_type": "stream",
     "text": [
      "Found 1320 images belonging to 16 classes.\n"
     ]
    }
   ],
   "source": [
    "# Load data from combined directory\n",
    "train_generator = datagen.flow_from_directory(\n",
    "    dataset_combined_dir,\n",
    "    target_size=target_size,\n",
    "    batch_size=batch_size,\n",
    "    class_mode='categorical'\n",
    ")"
   ]
  },
  {
   "cell_type": "code",
   "execution_count": 4,
   "id": "bb66c120-2325-42d9-a9c1-05fd5337ec98",
   "metadata": {},
   "outputs": [],
   "source": [
    "from tensorflow.keras.applications import MobileNetV2\n",
    "from tensorflow.keras.layers import GlobalAveragePooling2D, Dense\n",
    "from tensorflow.keras.models import Model\n",
    "\n",
    "# Load MobileNetV2 base model\n",
    "base_model = MobileNetV2(input_shape=(target_size[0], target_size[1], 3), include_top=False, weights='imagenet')"
   ]
  },
  {
   "cell_type": "code",
   "execution_count": 5,
   "id": "04f473de-7f3f-43ef-b169-f475da4544a6",
   "metadata": {},
   "outputs": [],
   "source": [
    "# Add custom top layers for classification\n",
    "x = base_model.output\n",
    "x = GlobalAveragePooling2D()(x)\n",
    "x = Dense(512, activation='relu')(x)\n",
    "predictions = Dense(train_generator.num_classes, activation='softmax')(x)"
   ]
  },
  {
   "cell_type": "code",
   "execution_count": 6,
   "id": "b2266c10-18c9-4456-959b-b06d4436f569",
   "metadata": {},
   "outputs": [],
   "source": [
    "# Combine base model and custom top layers into a new model\n",
    "model = Model(inputs=base_model.input, outputs=predictions)"
   ]
  },
  {
   "cell_type": "code",
   "execution_count": 7,
   "id": "5a32f02a-e96c-4f2d-9cd9-e61b8c393b59",
   "metadata": {},
   "outputs": [],
   "source": [
    "# Freeze layers in base model (optional)\n",
    "for layer in base_model.layers:\n",
    "    layer.trainable = False"
   ]
  },
  {
   "cell_type": "code",
   "execution_count": 8,
   "id": "d5bdc83b-6ed3-4862-aeb5-742bd730f9d3",
   "metadata": {},
   "outputs": [],
   "source": [
    "# Compile the model\n",
    "model.compile(optimizer='adam', loss='categorical_crossentropy', metrics=['accuracy'])"
   ]
  },
  {
   "cell_type": "code",
   "execution_count": 9,
   "id": "463a29ee-d945-43ec-9623-c4a714faaa61",
   "metadata": {},
   "outputs": [
    {
     "name": "stdout",
     "output_type": "stream",
     "text": [
      "Epoch 1/10\n"
     ]
    },
    {
     "name": "stderr",
     "output_type": "stream",
     "text": [
      "C:\\Users\\ADMIN\\anaconda3\\Lib\\site-packages\\keras\\src\\trainers\\data_adapters\\py_dataset_adapter.py:121: UserWarning: Your `PyDataset` class should call `super().__init__(**kwargs)` in its constructor. `**kwargs` can include `workers`, `use_multiprocessing`, `max_queue_size`. Do not pass these arguments to `fit()`, as they will be ignored.\n",
      "  self._warn_if_super_not_called()\n"
     ]
    },
    {
     "name": "stdout",
     "output_type": "stream",
     "text": [
      "\u001b[1m42/42\u001b[0m \u001b[32m━━━━━━━━━━━━━━━━━━━━\u001b[0m\u001b[37m\u001b[0m \u001b[1m116s\u001b[0m 2s/step - accuracy: 0.5245 - loss: 1.6732\n",
      "Epoch 2/10\n",
      "\u001b[1m42/42\u001b[0m \u001b[32m━━━━━━━━━━━━━━━━━━━━\u001b[0m\u001b[37m\u001b[0m \u001b[1m75s\u001b[0m 2s/step - accuracy: 0.9295 - loss: 0.2351\n",
      "Epoch 3/10\n",
      "\u001b[1m42/42\u001b[0m \u001b[32m━━━━━━━━━━━━━━━━━━━━\u001b[0m\u001b[37m\u001b[0m \u001b[1m75s\u001b[0m 2s/step - accuracy: 0.9647 - loss: 0.1291\n",
      "Epoch 4/10\n",
      "\u001b[1m42/42\u001b[0m \u001b[32m━━━━━━━━━━━━━━━━━━━━\u001b[0m\u001b[37m\u001b[0m \u001b[1m77s\u001b[0m 2s/step - accuracy: 0.9704 - loss: 0.0964\n",
      "Epoch 5/10\n",
      "\u001b[1m42/42\u001b[0m \u001b[32m━━━━━━━━━━━━━━━━━━━━\u001b[0m\u001b[37m\u001b[0m \u001b[1m79s\u001b[0m 2s/step - accuracy: 0.9857 - loss: 0.0623\n",
      "Epoch 6/10\n",
      "\u001b[1m42/42\u001b[0m \u001b[32m━━━━━━━━━━━━━━━━━━━━\u001b[0m\u001b[37m\u001b[0m \u001b[1m76s\u001b[0m 2s/step - accuracy: 0.9783 - loss: 0.0663\n",
      "Epoch 7/10\n",
      "\u001b[1m42/42\u001b[0m \u001b[32m━━━━━━━━━━━━━━━━━━━━\u001b[0m\u001b[37m\u001b[0m \u001b[1m77s\u001b[0m 2s/step - accuracy: 0.9844 - loss: 0.0623\n",
      "Epoch 8/10\n",
      "\u001b[1m42/42\u001b[0m \u001b[32m━━━━━━━━━━━━━━━━━━━━\u001b[0m\u001b[37m\u001b[0m \u001b[1m77s\u001b[0m 2s/step - accuracy: 0.9933 - loss: 0.0325\n",
      "Epoch 9/10\n",
      "\u001b[1m42/42\u001b[0m \u001b[32m━━━━━━━━━━━━━━━━━━━━\u001b[0m\u001b[37m\u001b[0m \u001b[1m77s\u001b[0m 2s/step - accuracy: 0.9939 - loss: 0.0296\n",
      "Epoch 10/10\n",
      "\u001b[1m42/42\u001b[0m \u001b[32m━━━━━━━━━━━━━━━━━━━━\u001b[0m\u001b[37m\u001b[0m \u001b[1m77s\u001b[0m 2s/step - accuracy: 0.9822 - loss: 0.0547\n"
     ]
    },
    {
     "data": {
      "text/plain": [
       "<keras.src.callbacks.history.History at 0x19b27fa14c0>"
      ]
     },
     "execution_count": 9,
     "metadata": {},
     "output_type": "execute_result"
    }
   ],
   "source": [
    "# Train the model\n",
    "model.fit(\n",
    "    train_generator,\n",
    "    epochs=10\n",
    ")"
   ]
  },
  {
   "cell_type": "code",
   "execution_count": 10,
   "id": "6887e805-da54-446b-931c-387117c91ceb",
   "metadata": {},
   "outputs": [],
   "source": [
    "# Save the trained model\n",
    "model.save('final_model.keras')"
   ]
  },
  {
   "cell_type": "code",
   "execution_count": 11,
   "id": "874e72f2-5be0-4f05-a660-a46927969d4f",
   "metadata": {},
   "outputs": [
    {
     "name": "stdout",
     "output_type": "stream",
     "text": [
      "\u001b[1m1/1\u001b[0m \u001b[32m━━━━━━━━━━━━━━━━━━━━\u001b[0m\u001b[37m\u001b[0m \u001b[1m2s\u001b[0m 2s/step\n",
      "Predicted class probabilities: [[1.4791154e-05 7.7362819e-07 5.4048123e-06 1.7158185e-05 6.7072956e-06\n",
      "  2.7444303e-06 2.2429303e-05 5.3592544e-06 4.3300664e-05 8.7391621e-05\n",
      "  2.3328390e-05 9.8714358e-01 8.9324743e-04 3.5524289e-03 3.5106117e-04\n",
      "  7.8302762e-03]]\n",
      "Predicted class index: 11\n",
      "The image is classified as a toxic plant: lilies\n"
     ]
    }
   ],
   "source": [
    "#make predictions\n",
    "import tensorflow as tf\n",
    "from tensorflow.keras.preprocessing import image\n",
    "import numpy as np\n",
    "\n",
    "# Load the saved model\n",
    "model = tf.keras.models.load_model('final_model.keras')\n",
    "\n",
    "# Define the labels for medicinal and toxic plants\n",
    "medicinal_labels = [\n",
    "    \"Aloevera\", \"Amruthaballi\", \"Betal\", \"Doddpathre\", \"Eucalyptus\",\"Neem\",\"Tulsi\",\"Turmeric\"\n",
    "]\n",
    "\n",
    "toxic_labels = [\n",
    "    \"castor_oil_plant\", \"dieffenbachia\", \"foxglove\", \"lilies\", \"lily_of_the_valley\",\"oleander\",\"rhubarb\",\"wisteria\"\n",
    "]\n",
    "\n",
    "# Combine labels\n",
    "class_labels = medicinal_labels + toxic_labels\n",
    "\n",
    "# Function to preprocess an image\n",
    "def preprocess_image(img_path, target_size=(224, 224)):\n",
    "    img = image.load_img(img_path, target_size=target_size)  # Load and resize image\n",
    "    img_array = image.img_to_array(img)  # Convert to numpy array\n",
    "    img_array = np.expand_dims(img_array, axis=0)  # Expand dimensions to create a batch-like effect\n",
    "    img_array = img_array / 255.0  # Normalize the image\n",
    "    return img_array\n",
    "\n",
    "# Function to predict and print category\n",
    "def predict_and_print_category(image_path):\n",
    "    img_array = preprocess_image(image_path)\n",
    "    \n",
    "    # Make predictions\n",
    "    predictions = model.predict(img_array)\n",
    "    \n",
    "    # Print the predicted class probabilities\n",
    "    print(\"Predicted class probabilities:\", predictions)\n",
    "    \n",
    "    # Print the predicted class index\n",
    "    predicted_class = np.argmax(predictions, axis=1)[0]\n",
    "    print(f'Predicted class index: {predicted_class}')\n",
    "    \n",
    "    # Determine if the class is medicinal or toxic\n",
    "    if predicted_class < 5:\n",
    "        print(f\"The image is classified as a medicinal plant: {class_labels[predicted_class]}\")\n",
    "    else:\n",
    "        print(f\"The image is classified as a toxic plant: {class_labels[predicted_class]}\")\n",
    "\n",
    "# Example: Predict on a new image from the combined dataset\n",
    "new_image_path = 'plant dataset/lilies/147801.jpg'\n",
    "predict_and_print_category(new_image_path)"
   ]
  },
  {
   "cell_type": "code",
   "execution_count": null,
   "id": "7f74b0db-5c48-47bf-9511-9186dd0a1ee8",
   "metadata": {},
   "outputs": [],
   "source": []
  }
 ],
 "metadata": {
  "kernelspec": {
   "display_name": "Python 3 (ipykernel)",
   "language": "python",
   "name": "python3"
  },
  "language_info": {
   "codemirror_mode": {
    "name": "ipython",
    "version": 3
   },
   "file_extension": ".py",
   "mimetype": "text/x-python",
   "name": "python",
   "nbconvert_exporter": "python",
   "pygments_lexer": "ipython3",
   "version": "3.12.4"
  }
 },
 "nbformat": 4,
 "nbformat_minor": 5
}
